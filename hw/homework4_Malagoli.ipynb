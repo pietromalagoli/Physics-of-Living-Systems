{
 "cells": [
  {
   "cell_type": "markdown",
   "metadata": {},
   "source": [
    "# Homework 4 - Genetic Networks #"
   ]
  },
  {
   "cell_type": "markdown",
   "metadata": {},
   "source": [
    "## Negative Feedback Loop - Stress Response ##"
   ]
  },
  {
   "cell_type": "markdown",
   "metadata": {},
   "source": [
    "Consider Stress molecules (S) that are controlled by Enzymes (E) which are controlled by Repressors (R). The concentrations of these components are regulated by the following equations:\n",
    "\n",
    "$$ \\frac{dR}{dt} = \\frac{\\gamma}{1+(\\frac{R}{k})^h} - \\frac{R}{\\tau_R} + l $$\n",
    "$$ \\frac{dS}{dt} = \\Theta_t - \\gamma E S $$\n",
    "$$ \\frac{dE}{dt} = \\frac{1}{1+(\\frac{R}{k})^h} - \\frac{E}{\\tau_E} $$"
   ]
  },
  {
   "cell_type": "markdown",
   "metadata": {},
   "source": [
    "Initial conditions: $ S(0) = E(0) = 0, R(0) = 1 $."
   ]
  },
  {
   "cell_type": "code",
   "execution_count": 2,
   "metadata": {},
   "outputs": [],
   "source": [
    "import numpy as np\n",
    "import matplotlib.pyplot as plt\n",
    "from scipy.integrate import odeint"
   ]
  },
  {
   "cell_type": "code",
   "execution_count": null,
   "metadata": {},
   "outputs": [
    {
     "name": "stdout",
     "output_type": "stream",
     "text": [
      "[0.00000000e+00 1.00020004e-02 2.00040008e-02 ... 4.99799960e+01\n",
      " 4.99899980e+01 5.00000000e+01]\n",
      "[[0.        ]\n",
      " [0.00992744]\n",
      " [0.01970749]\n",
      " ...\n",
      " [0.04090794]\n",
      " [0.04089955]\n",
      " [0.04089117]]\n",
      "[[-10.        ]\n",
      " [ -9.99007256]\n",
      " [ -9.98029251]\n",
      " ...\n",
      " [ -9.95909206]\n",
      " [ -9.95910045]\n",
      " [ -9.95910883]]\n",
      "[[0]\n",
      " [0]\n",
      " [0]\n",
      " ...\n",
      " [0]\n",
      " [0]\n",
      " [0]]\n",
      "[[0.]\n",
      " [0.]\n",
      " [0.]\n",
      " ...\n",
      " [0.]\n",
      " [0.]\n",
      " [0.]]\n"
     ]
    },
    {
     "ename": "RuntimeError",
     "evalue": "The array return by func must be one-dimensional, but got ndim=2.",
     "output_type": "error",
     "traceback": [
      "\u001b[0;31m---------------------------------------------------------------------------\u001b[0m",
      "\u001b[0;31mRuntimeError\u001b[0m                              Traceback (most recent call last)",
      "Cell \u001b[0;32mIn[26], line 47\u001b[0m\n\u001b[1;32m     45\u001b[0m R \u001b[38;5;241m=\u001b[39m odeint(dr, R0, t_s, args\u001b[38;5;241m=\u001b[39m(par,))\n\u001b[1;32m     46\u001b[0m E \u001b[38;5;241m=\u001b[39m odeint(de, E0, t_s, args\u001b[38;5;241m=\u001b[39m(R,par))\n\u001b[0;32m---> 47\u001b[0m S \u001b[38;5;241m=\u001b[39m \u001b[43modeint\u001b[49m\u001b[43m(\u001b[49m\u001b[43mds\u001b[49m\u001b[43m,\u001b[49m\u001b[43m \u001b[49m\u001b[43mS0\u001b[49m\u001b[43m,\u001b[49m\u001b[43m \u001b[49m\u001b[43mt_s\u001b[49m\u001b[43m,\u001b[49m\u001b[43m \u001b[49m\u001b[43margs\u001b[49m\u001b[38;5;241;43m=\u001b[39;49m\u001b[43m(\u001b[49m\u001b[43mE\u001b[49m\u001b[43m,\u001b[49m\u001b[43m \u001b[49m\u001b[43mTheta_t\u001b[49m\u001b[43m,\u001b[49m\u001b[43m \u001b[49m\u001b[43mpar\u001b[49m\u001b[43m)\u001b[49m\u001b[43m)\u001b[49m\n\u001b[1;32m     48\u001b[0m plt\u001b[38;5;241m.\u001b[39mplot(R, t_s, c\u001b[38;5;241m=\u001b[39m\u001b[38;5;124m'\u001b[39m\u001b[38;5;124mr\u001b[39m\u001b[38;5;124m'\u001b[39m, label\u001b[38;5;241m=\u001b[39m\u001b[38;5;124m'\u001b[39m\u001b[38;5;124mR(t)\u001b[39m\u001b[38;5;124m'\u001b[39m)\n\u001b[1;32m     49\u001b[0m plt\u001b[38;5;241m.\u001b[39mplot(E, t_s, c\u001b[38;5;241m=\u001b[39m\u001b[38;5;124m'\u001b[39m\u001b[38;5;124mg\u001b[39m\u001b[38;5;124m'\u001b[39m, label\u001b[38;5;241m=\u001b[39m\u001b[38;5;124m'\u001b[39m\u001b[38;5;124mE(t)\u001b[39m\u001b[38;5;124m'\u001b[39m)\n",
      "File \u001b[0;32m~/anaconda3/envs/uni/lib/python3.12/site-packages/scipy/integrate/_odepack_py.py:243\u001b[0m, in \u001b[0;36modeint\u001b[0;34m(func, y0, t, args, Dfun, col_deriv, full_output, ml, mu, rtol, atol, tcrit, h0, hmax, hmin, ixpr, mxstep, mxhnil, mxordn, mxords, printmessg, tfirst)\u001b[0m\n\u001b[1;32m    241\u001b[0m t \u001b[38;5;241m=\u001b[39m copy(t)\n\u001b[1;32m    242\u001b[0m y0 \u001b[38;5;241m=\u001b[39m copy(y0)\n\u001b[0;32m--> 243\u001b[0m output \u001b[38;5;241m=\u001b[39m \u001b[43m_odepack\u001b[49m\u001b[38;5;241;43m.\u001b[39;49m\u001b[43modeint\u001b[49m\u001b[43m(\u001b[49m\u001b[43mfunc\u001b[49m\u001b[43m,\u001b[49m\u001b[43m \u001b[49m\u001b[43my0\u001b[49m\u001b[43m,\u001b[49m\u001b[43m \u001b[49m\u001b[43mt\u001b[49m\u001b[43m,\u001b[49m\u001b[43m \u001b[49m\u001b[43margs\u001b[49m\u001b[43m,\u001b[49m\u001b[43m \u001b[49m\u001b[43mDfun\u001b[49m\u001b[43m,\u001b[49m\u001b[43m \u001b[49m\u001b[43mcol_deriv\u001b[49m\u001b[43m,\u001b[49m\u001b[43m \u001b[49m\u001b[43mml\u001b[49m\u001b[43m,\u001b[49m\u001b[43m \u001b[49m\u001b[43mmu\u001b[49m\u001b[43m,\u001b[49m\n\u001b[1;32m    244\u001b[0m \u001b[43m                         \u001b[49m\u001b[43mfull_output\u001b[49m\u001b[43m,\u001b[49m\u001b[43m \u001b[49m\u001b[43mrtol\u001b[49m\u001b[43m,\u001b[49m\u001b[43m \u001b[49m\u001b[43matol\u001b[49m\u001b[43m,\u001b[49m\u001b[43m \u001b[49m\u001b[43mtcrit\u001b[49m\u001b[43m,\u001b[49m\u001b[43m \u001b[49m\u001b[43mh0\u001b[49m\u001b[43m,\u001b[49m\u001b[43m \u001b[49m\u001b[43mhmax\u001b[49m\u001b[43m,\u001b[49m\u001b[43m \u001b[49m\u001b[43mhmin\u001b[49m\u001b[43m,\u001b[49m\n\u001b[1;32m    245\u001b[0m \u001b[43m                         \u001b[49m\u001b[43mixpr\u001b[49m\u001b[43m,\u001b[49m\u001b[43m \u001b[49m\u001b[43mmxstep\u001b[49m\u001b[43m,\u001b[49m\u001b[43m \u001b[49m\u001b[43mmxhnil\u001b[49m\u001b[43m,\u001b[49m\u001b[43m \u001b[49m\u001b[43mmxordn\u001b[49m\u001b[43m,\u001b[49m\u001b[43m \u001b[49m\u001b[43mmxords\u001b[49m\u001b[43m,\u001b[49m\n\u001b[1;32m    246\u001b[0m \u001b[43m                         \u001b[49m\u001b[38;5;28;43mint\u001b[39;49m\u001b[43m(\u001b[49m\u001b[38;5;28;43mbool\u001b[39;49m\u001b[43m(\u001b[49m\u001b[43mtfirst\u001b[49m\u001b[43m)\u001b[49m\u001b[43m)\u001b[49m\u001b[43m)\u001b[49m\n\u001b[1;32m    247\u001b[0m \u001b[38;5;28;01mif\u001b[39;00m output[\u001b[38;5;241m-\u001b[39m\u001b[38;5;241m1\u001b[39m] \u001b[38;5;241m<\u001b[39m \u001b[38;5;241m0\u001b[39m:\n\u001b[1;32m    248\u001b[0m     warning_msg \u001b[38;5;241m=\u001b[39m (\u001b[38;5;124mf\u001b[39m\u001b[38;5;124m\"\u001b[39m\u001b[38;5;132;01m{\u001b[39;00m_msgs[output[\u001b[38;5;241m-\u001b[39m\u001b[38;5;241m1\u001b[39m]]\u001b[38;5;132;01m}\u001b[39;00m\u001b[38;5;124m Run with full_output = 1 to \u001b[39m\u001b[38;5;124m\"\u001b[39m\n\u001b[1;32m    249\u001b[0m                    \u001b[38;5;124mf\u001b[39m\u001b[38;5;124m\"\u001b[39m\u001b[38;5;124mget quantitative information.\u001b[39m\u001b[38;5;124m\"\u001b[39m)\n",
      "\u001b[0;31mRuntimeError\u001b[0m: The array return by func must be one-dimensional, but got ndim=2."
     ]
    }
   ],
   "source": [
    "# initial conditions\n",
    "R0 = 0\n",
    "S0 = 0\n",
    "E0 = 0\n",
    "\n",
    "par = [0.2,1,1,0,1,2]\n",
    "\n",
    "# we define Theta_t(t), which is the stress source, to be a step function that activates and spikes at a certain \n",
    "# point in time. This makes sense since the stress is usually caused by an abrupt change or signal\n",
    "\n",
    "def Theta_t(t):\n",
    "    return np.where(t > 0, 1, 0)\n",
    "\n",
    "# define the equations\n",
    "def dr(R, t, par):\n",
    "    # par[0] = gamma\n",
    "    # par[1] = k\n",
    "    # par[2] = h\n",
    "    # par[3] = l\n",
    "    # par[4] = tau_R\n",
    "    # par[5] = tau_E\n",
    "    \n",
    "    drdt = par[0] / (1 + (R/par[1])**par[2]) - (R/par[4]) + par[3]\n",
    "    return drdt\n",
    "\n",
    "def ds(S, E, t, Theta_t, par):\n",
    "    \n",
    "    dsdt = Theta_t(t - 10)*(1-Theta_t(t-30)) - par[0] * E * S       \n",
    "    print(t)\n",
    "    print(t-10)\n",
    "    print(Theta_t(t-10))\n",
    "    print(dsdt)\n",
    "    return dsdt\n",
    "\n",
    "def de(E, R, t, par):\n",
    "    \n",
    "    dedt = 1 / (1+(R/par[1])**par[2]) - E / par[5]\n",
    "    return dedt\n",
    "\n",
    "# set the time space\n",
    "t_s = np.linspace(0,50,5000)\n",
    "print(t_s)\n",
    "\n",
    "# Solve \n",
    "R = odeint(dr, R0, t_s, args=(par,))\n",
    "E = odeint(de, E0, t_s, args=(R,par))\n",
    "S = odeint(ds, S0, t_s, args=(E, Theta_t, par))\n",
    "plt.plot(R, t_s, c='r', label='R(t)')\n",
    "plt.plot(E, t_s, c='g', label='E(t)')\n",
    "plt.plot(S, t_s, c='b', label='S(t)')\n",
    "plt.legend()\n",
    "plt.grid()\n",
    "plt.xlabel('t')\n",
    "plt.ylabel('Population')\n",
    "plt.title('Stress response')\n",
    "plt.show()"
   ]
  },
  {
   "cell_type": "code",
   "execution_count": null,
   "metadata": {},
   "outputs": [],
   "source": []
  }
 ],
 "metadata": {
  "kernelspec": {
   "display_name": "uni",
   "language": "python",
   "name": "python3"
  },
  "language_info": {
   "codemirror_mode": {
    "name": "ipython",
    "version": 3
   },
   "file_extension": ".py",
   "mimetype": "text/x-python",
   "name": "python",
   "nbconvert_exporter": "python",
   "pygments_lexer": "ipython3",
   "version": "3.12.3"
  }
 },
 "nbformat": 4,
 "nbformat_minor": 2
}
