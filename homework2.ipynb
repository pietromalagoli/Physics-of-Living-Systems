{
 "cells": [
  {
   "cell_type": "markdown",
   "metadata": {},
   "source": [
    "## Homework 2 ##"
   ]
  },
  {
   "cell_type": "markdown",
   "metadata": {},
   "source": [
    "Plot both SAR and EAR as a function of the relative area, using the Log Series as the SAD distribution P( n ) = c (1-m)^n / n (c is the normalization constant - see Eq. 3.29) and compare it with a Power Law SAR of exponent z ∊ (0.2,0.3) (S(a)=k A^z) and z, k tuned so the be as close as possible to the solution for the random placement case.\n",
    "\n",
    "In class I did not perform explicitly the integral (convolution between the average SAR and PNo. It is easy and you find in the notes (Eq. 3.27).\n",
    "\n",
    " I did not also explain how to derive the EAR in class, but the derivation is very similar to the SAR and you find it in the notes (Eq. 3.32).\n",
    "\n",
    "If you remove 1/3 of the area, how many species go extinct? Do the estimation both using the SAR and the EAR.\n",
    "\n",
    "In the Coleman paper (that you also find in the Moodle) you find the original model where the random placement is presented in full details, not only for the log series distribution but also for other SAD distributions."
   ]
  },
  {
   "cell_type": "markdown",
   "metadata": {},
   "source": [
    "$$ P(n) = \\frac{(1 - m)^n}{n}\\frac{1}{|log(m)|}  \\\\ c = \\frac{1}{|log(m)|} $$"
   ]
  },
  {
   "cell_type": "code",
   "execution_count": 4,
   "metadata": {},
   "outputs": [],
   "source": [
    "import numpy as np\n",
    "import matplotlib.pyplot as plt\n",
    "from scipy import integrate"
   ]
  },
  {
   "cell_type": "code",
   "execution_count": 13,
   "metadata": {},
   "outputs": [
    {
     "ename": "TypeError",
     "evalue": "ufunc 'bitwise_xor' not supported for the input types, and the inputs could not be safely coerced to any supported types according to the casting rule ''safe''",
     "output_type": "error",
     "traceback": [
      "\u001b[0;31m---------------------------------------------------------------------------\u001b[0m",
      "\u001b[0;31mTypeError\u001b[0m                                 Traceback (most recent call last)",
      "Cell \u001b[0;32mIn[13], line 15\u001b[0m\n\u001b[1;32m     11\u001b[0m     \u001b[38;5;28;01mreturn\u001b[39;00m (c \u001b[38;5;241m*\u001b[39m ((\u001b[38;5;241m1\u001b[39m \u001b[38;5;241m-\u001b[39m m)\u001b[38;5;241m^\u001b[39mn) \u001b[38;5;241m/\u001b[39m n)\n\u001b[1;32m     13\u001b[0m n_s \u001b[38;5;241m=\u001b[39m np\u001b[38;5;241m.\u001b[39mlinspace(\u001b[38;5;241m1\u001b[39m,\u001b[38;5;241m1000\u001b[39m,\u001b[38;5;241m100\u001b[39m)\n\u001b[0;32m---> 15\u001b[0m plt\u001b[38;5;241m.\u001b[39mplot(n_s, \u001b[43msad\u001b[49m\u001b[43m(\u001b[49m\u001b[43mn_s\u001b[49m\u001b[43m)\u001b[49m)\n",
      "Cell \u001b[0;32mIn[13], line 11\u001b[0m, in \u001b[0;36msad\u001b[0;34m(n)\u001b[0m\n\u001b[1;32m      9\u001b[0m c \u001b[38;5;241m=\u001b[39m \u001b[38;5;241m1\u001b[39m \u001b[38;5;241m/\u001b[39m np\u001b[38;5;241m.\u001b[39mabs(np\u001b[38;5;241m.\u001b[39mlog(m))\n\u001b[1;32m     10\u001b[0m \u001b[38;5;66;03m#m = np.exp(1 / c)\u001b[39;00m\n\u001b[0;32m---> 11\u001b[0m \u001b[38;5;28;01mreturn\u001b[39;00m (c \u001b[38;5;241m*\u001b[39m (\u001b[43m(\u001b[49m\u001b[38;5;241;43m1\u001b[39;49m\u001b[43m \u001b[49m\u001b[38;5;241;43m-\u001b[39;49m\u001b[43m \u001b[49m\u001b[43mm\u001b[49m\u001b[43m)\u001b[49m\u001b[38;5;241;43m^\u001b[39;49m\u001b[43mn\u001b[49m) \u001b[38;5;241m/\u001b[39m n)\n",
      "\u001b[0;31mTypeError\u001b[0m: ufunc 'bitwise_xor' not supported for the input types, and the inputs could not be safely coerced to any supported types according to the casting rule ''safe''"
     ]
    }
   ],
   "source": [
    "# n: population\n",
    "# c: normalization constant\n",
    "# m = b0 (migration rate) \n",
    "\n",
    "m = 2\n",
    "\n",
    "def sad(n):\n",
    "    #c = 1 / integrate.quad(sad(n), 0, np.inf)\n",
    "    c = 1 / np.abs(np.log(m))\n",
    "    #m = np.exp(1 / c)\n",
    "    return (c * ((1 - m)^n) / n)\n",
    "\n",
    "n_s = np.linspace(0,1000,101)\n",
    "\n",
    "plt.plot(n_s, sad(n_s))\n",
    "    "
   ]
  }
 ],
 "metadata": {
  "kernelspec": {
   "display_name": "uni",
   "language": "python",
   "name": "python3"
  },
  "language_info": {
   "codemirror_mode": {
    "name": "ipython",
    "version": 3
   },
   "file_extension": ".py",
   "mimetype": "text/x-python",
   "name": "python",
   "nbconvert_exporter": "python",
   "pygments_lexer": "ipython3",
   "version": "3.12.3"
  }
 },
 "nbformat": 4,
 "nbformat_minor": 2
}
