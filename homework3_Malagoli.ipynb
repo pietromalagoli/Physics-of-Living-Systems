{
 "cells": [
  {
   "cell_type": "markdown",
   "metadata": {},
   "source": [
    "### Homework 3 - Random matrices ###"
   ]
  },
  {
   "cell_type": "markdown",
   "metadata": {},
   "source": [
    "1) Choose a given type of ecological structure (e.g. mutualistic, or predator-prey, or etc...). Generate random matrices with for completely random and for the chosen ecological structures. You need to create SxS matrices (S is the number of species) with C non-zero entries and 1-C zeros (C is the connectivity between 0 and 1). The non-zero elements are drawn at random from given distributions. Depending on the network structure some symmetries and constraints may hold. Please follow the detailed step-by-step explanation in the \"Homework-detail-week3-from-Allesina-Stability-Criteria-2012-Nature.pdf\" (Also uploaded in the Google Drive, note folder). Fix C and variance of the interaction and S=100, and calculate the maximum real eigenvalue of the matrix. Do many realizations and calculate each time such maximum real eigenvalue. Do this for different combinations of C and of the  variance so to have a good range of values of the control parameter  (e.g. for the complete random case is sigma*(S*C)^0.5). Set the self interaction d=-1\n",
    "\n",
    "Plot the probability for the maximum real eigenvalue of be smaller than 0, against the corresponding control parameter and see when the transition to instability happens. Compare with analytical prediction if avaliable."
   ]
  },
  {
   "cell_type": "code",
   "execution_count": 1,
   "metadata": {},
   "outputs": [],
   "source": [
    "import numpy as np\n",
    "import matplotlib.pyplot as pltf"
   ]
  },
  {
   "cell_type": "code",
   "execution_count": null,
   "metadata": {},
   "outputs": [
    {
     "name": "stdout",
     "output_type": "stream",
     "text": [
      "Random matrice: \n",
      " [[ 1.    0.   -0.52 ...  0.29  0.    0.  ]\n",
      " [ 0.    1.    0.   ...  0.22 -0.19  0.  ]\n",
      " [ 0.96  0.    1.   ...  1.76 -0.4  -0.29]\n",
      " ...\n",
      " [ 1.89  0.    0.89 ...  1.   -0.49 -0.82]\n",
      " [ 0.    0.    0.2  ...  0.    1.    1.28]\n",
      " [-1.01  0.   -0.95 ... -1.26  0.    1.  ]]\n",
      "Predator-prey: \n",
      " [[ 0.    0.   -1.64 ...  0.    0.89  0.12]\n",
      " [ 0.    1.    0.   ...  0.3  -1.16 -0.09]\n",
      " [-0.69  0.    1.   ...  0.    0.    0.  ]\n",
      " ...\n",
      " [ 0.    0.08  0.   ...  1.    0.   -1.6 ]\n",
      " [ 0.71 -1.22  0.   ...  0.    1.    0.  ]\n",
      " [ 0.8  -1.02  0.   ... -1.34  0.    1.  ]]\n",
      "Predator-prey: \n",
      " 0.15415622130823475\n"
     ]
    },
    {
     "name": "stderr",
     "output_type": "stream",
     "text": [
      "/tmp/ipykernel_3862/461042503.py:23: DeprecationWarning: Conversion of an array with ndim > 0 to a scalar is deprecated, and will error in future. Ensure you extract a single element from your array before performing this operation. (Deprecated NumPy 1.25.)\n",
      "  mat[i,j] = np.random.normal(0,sigma2,1) # extract the coefficient value\n",
      "/tmp/ipykernel_3862/461042503.py:43: DeprecationWarning: Conversion of an array with ndim > 0 to a scalar is deprecated, and will error in future. Ensure you extract a single element from your array before performing this operation. (Deprecated NumPy 1.25.)\n",
      "  mat[i,j] = - np.abs(np.random.normal(0,sigma2,1))   # extract the coefficient value\n",
      "/tmp/ipykernel_3862/461042503.py:44: DeprecationWarning: Conversion of an array with ndim > 0 to a scalar is deprecated, and will error in future. Ensure you extract a single element from your array before performing this operation. (Deprecated NumPy 1.25.)\n",
      "  mat[j,i] = - np.abs(np.random.normal(0,sigma2,1))\n",
      "/tmp/ipykernel_3862/461042503.py:40: DeprecationWarning: Conversion of an array with ndim > 0 to a scalar is deprecated, and will error in future. Ensure you extract a single element from your array before performing this operation. (Deprecated NumPy 1.25.)\n",
      "  mat[i,j] = np.abs(np.random.normal(0,sigma2,1))     # extract the coefficient value\n",
      "/tmp/ipykernel_3862/461042503.py:41: DeprecationWarning: Conversion of an array with ndim > 0 to a scalar is deprecated, and will error in future. Ensure you extract a single element from your array before performing this operation. (Deprecated NumPy 1.25.)\n",
      "  mat[j,i] = np.abs(np.random.normal(0,sigma2,1))\n"
     ]
    }
   ],
   "source": [
    "# Let's choose predator-prey dynamics\n",
    "\n",
    "## PARAMETERS\n",
    "S = 100 # number of species\n",
    "C = 0.1 # connectance\n",
    "d = -1 # self interaction (diagonal terms)\n",
    "sigma2 = 1 # variance of the Normal distribubtion\n",
    "\n",
    "# Set the seed for reproducibility (12345)\n",
    "np.random.seed(12345)\n",
    "\n",
    "# Generate completely random matrices (no ecological structures)\n",
    "def random_mat(S, C, d, sigma2):\n",
    "    \n",
    "    mat = np.zeros((S,S)) # create an SxS matrix of zeros\n",
    "    \n",
    "    for i in range(S):\n",
    "        mat[i,i] = -d                                       # set diagonal terms to -d\n",
    "        for j in range(S):\n",
    "            if i != j:                                      # non-diagonal terms\n",
    "                p = np.random.uniform(0,1,1)                # extract a probability p of nodes i,j to be connected\n",
    "                if p <= C:                                  # compare it with the connectance requirment\n",
    "                    mat[i,j] = np.random.normal(0,sigma2,1) # extract the coefficient value                             \n",
    "    \n",
    "    return mat\n",
    "    \n",
    "# Predator-prey case\n",
    "def predator_prey(S, C, d, sigma2):\n",
    "    \n",
    "    mat = np.zeros((S,S)) # create an SxS matrix of zeros\n",
    "    \n",
    "    for i in range(1,S):\n",
    "        mat[i,i] = -d                                                       # set diagonal terms to -d\n",
    "        for j in range(S):\n",
    "            if i > j:                                                   # non-diagonal terms\n",
    "                p1 = np.random.uniform(0,1,1)                           # extract a probability p of nodes i,j to be connected\n",
    "                if p1 <= C:\n",
    "                    p2 = np.random.uniform(0,1,1)                       # extract second probability\n",
    "                    if p2 <= 0.5: \n",
    "                        mat[i,j] = np.abs(np.random.normal(0,sigma2,1))     # extract the coefficient value\n",
    "                        mat[j,i] = np.abs(np.random.normal(0,sigma2,1))\n",
    "                    else:\n",
    "                        mat[i,j] = - np.abs(np.random.normal(0,sigma2,1))   # extract the coefficient value\n",
    "                        mat[j,i] = - np.abs(np.random.normal(0,sigma2,1))\n",
    "    \n",
    "    return mat\n",
    "\n",
    "## TEST \n",
    "np.set_printoptions(precision=2, suppress=True)             # for readability\n",
    "print('Random matrice: \\n', random_mat(50, 0.5, d, sigma2))\n",
    "\n",
    "print('Predator-prey: \\n', predator_prey(50,0.5,d,sigma2))\n"
   ]
  },
  {
   "cell_type": "code",
   "execution_count": null,
   "metadata": {},
   "outputs": [],
   "source": []
  }
 ],
 "metadata": {
  "kernelspec": {
   "display_name": "uni",
   "language": "python",
   "name": "python3"
  },
  "language_info": {
   "codemirror_mode": {
    "name": "ipython",
    "version": 3
   },
   "file_extension": ".py",
   "mimetype": "text/x-python",
   "name": "python",
   "nbconvert_exporter": "python",
   "pygments_lexer": "ipython3",
   "version": "3.12.3"
  }
 },
 "nbformat": 4,
 "nbformat_minor": 2
}
