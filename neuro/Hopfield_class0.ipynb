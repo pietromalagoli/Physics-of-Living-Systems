{
 "cells": [
  {
   "cell_type": "markdown",
   "metadata": {},
   "source": [
    "## Hopfield network - part 1: memory storage and retrieval\n",
    "\n",
    "Build a Hopfield network with $nunits$ neurons, storing $npatterns$ orthogonal patterns in its synaptic weights.\n",
    "\n",
    "Neurons activity takes values $S_i=\\{\\pm1\\}$, for $i=1,\\ldots,nunits$.\n",
    "\n",
    "Input patterns take values $\\xi_i^\\mu=\\{\\pm1\\}$, for $i=1,\\ldots,nunits$ neurons and $\\mu=1,\\ldots,npatterns$ patterns.\n",
    "\n",
    "Test memory retrieval and the occurrence of spurious states \n"
   ]
  },
  {
   "cell_type": "code",
   "execution_count": 7,
   "metadata": {},
   "outputs": [],
   "source": [
    "import numpy as np\n",
    "import matplotlib.pyplot as plt\n",
    "import matplotlib.cm as cm\n",
    "np.random.seed(1)\n",
    "\n",
    "# plotting specifications\n",
    "#Options\n",
    "params = {'text.usetex' : False,\n",
    "         'font.size' : 20,\n",
    "         'font.family' : 'cmr10',\n",
    "#          'figure.autolayout': True\n",
    "         }\n",
    "plt.rcParams.update(params)\n",
    "# plt.rcParams['axes.unicode_minus']=False\n",
    "plt.rcParams['axes.labelsize']=16\n",
    "# plt.rcParams['figure.figsize']=(5,5)\n",
    "\n",
    "cmap = plt.get_cmap(\"tab10\") # default color cycle, call by using color=cmap(i) i=0 is blue\n",
    "#reversed('RdBu')"
   ]
  },
  {
   "cell_type": "markdown",
   "metadata": {},
   "source": [
    "## Patterns\n",
    "\n",
    "- Create $npatterns=4$ orthogonal patterns $\\xi_i^\\mu$. We visualize neurons on a square grid.\n",
    "- Create random patterns, with probFlip of having $S_i=+1$."
   ]
  },
  {
   "cell_type": "code",
   "execution_count": 8,
   "metadata": {},
   "outputs": [
    {
     "name": "stderr",
     "output_type": "stream",
     "text": [
      "/tmp/ipykernel_3908/1476736342.py:36: UserWarning: cmr10 font should ideally be used with mathtext, set axes.formatter.use_mathtext to True\n",
      "  fig,ax=plt.subplots(1,nplot,figsize=(20,5))\n"
     ]
    },
    {
     "data": {
      "image/png": "[encoded data removed]",
      "text/plain": [
       "<Figure size 2000x500 with 4 Axes>"
      ]
     },
     "metadata": {},
     "output_type": "display_data"
    }
   ],
   "source": [
    "N1=16; # size of edge of square array\n",
    "nunits=N1**2 # neurons\n",
    "npatterns=4\n",
    "\n",
    "def generate_orth_patterns(nunits,npatterns):   # generates othogonal patterns\n",
    "    train_data=np.zeros((npatterns,nunits))\n",
    "    N1=int(nunits**(1/2))\n",
    "    for ip in range(npatterns):\n",
    "        tempPattern=-np.ones((N1,N1))\n",
    "        for i in range(N1):\n",
    "            if (np.ceil((i+1)/(2**ip)) % 2 ==0):\n",
    "                tempPattern[i,:]=1 # top left to bottom right\n",
    "        train_data[ip,:]=tempPattern.flatten()\n",
    "    return train_data\n",
    "    \n",
    "def generate_rand_patterns(nunits,npatterns,probFlip):\n",
    "    #probFlip=probability of having +1 entry\n",
    "    train_data=-np.ones((npatterns,nunits))\n",
    "    N1=int(nunits**(1/2))\n",
    "    for ip in range(npatterns):\n",
    "        tempPattern=-np.ones(nunits)\n",
    "        indflip=(np.random.rand(nunits)<probFlip)\n",
    "        tempPattern[indflip]=1\n",
    "        train_data[ip,:]=tempPattern.flatten()\n",
    "    return train_data\n",
    "\n",
    "# plot patterns\n",
    "def plotpattern(pattern,ax,title='pattern'):\n",
    "    ax.matshow(np.reshape(pattern,[N1,N1]), cmap='Greys',interpolation='nearest')\n",
    "    ax.set_xticks([]); ax.set_yticks([]); ax.set_title(title)\n",
    "    \n",
    "train_data=generate_orth_patterns(nunits,npatterns)    \n",
    "#train_data=generate_rand_patterns(nunits,20,0.5)    \n",
    "\n",
    "nplot=npatterns\n",
    "fig,ax=plt.subplots(1,nplot,figsize=(20,5))\n",
    "for i in range(nplot):\n",
    "    plotpattern(train_data[i],ax[i],title='pattern %s' % i)\n",
    "plt.savefig(\"orthogonal_patterns4.png\")"
   ]
  },
  {
   "cell_type": "markdown",
   "metadata": {},
   "source": [
    "Compute overlaps $m_{\\mu\\nu}$ between patterns (correlation): check that orthogonal patterns are orthogonal. Random patterns have small nonzero overlaps.\n",
    "\n",
    "$$\n",
    "m_{\\mu\\nu}={1\\over N}\\sum_{i=1}^N\\xi_i^\\mu\\xi_i^\\nu \\ .\n",
    "$$\n"
   ]
  },
  {
   "cell_type": "code",
   "execution_count": 9,
   "metadata": {},
   "outputs": [
    {
     "name": "stdout",
     "output_type": "stream",
     "text": [
      "0.0\n",
      "[1. 0. 0. 0.]\n",
      "[[1. 0. 0. 0.]\n",
      " [0. 1. 0. 0.]\n",
      " [0. 0. 1. 0.]\n",
      " [0. 0. 0. 1.]]\n"
     ]
    }
   ],
   "source": [
    "def compute_overlap(pattern1,pattern2):\n",
    "    # returns: overlap between the patterns\n",
    "    shape1=pattern1.shape\n",
    "    if shape1 !=pattern2.shape:\n",
    "        raise ValueError(\"patterns have different shape!\")\n",
    "    dot_prod=np.dot(pattern1.flatten(),pattern2.flatten())\n",
    "    return float(dot_prod)/ (np.prod(shape1))\n",
    "\n",
    "def compute_overlap_list(reference_pattern,pattern_list):\n",
    "    overlap=np.zeros(len(pattern_list))\n",
    "    for i in range(0,len(pattern_list)):\n",
    "        overlap[i]=compute_overlap(reference_pattern,pattern_list[i])\n",
    "    return overlap\n",
    "\n",
    "def compute_overlap_matrix(pattern_list):\n",
    "    nr_patterns=len(pattern_list)\n",
    "    overlap=np.zeros((nr_patterns,nr_patterns))\n",
    "    for i in range(nr_patterns):\n",
    "        for k in range(i+1):\n",
    "            if i==k:\n",
    "                overlap[i,i]=1\n",
    "            else:\n",
    "                overlap[i,k]=compute_overlap(pattern_list[i],pattern_list[k])\n",
    "                overlap[k,i]=overlap[i,k]\n",
    "    return overlap\n",
    "\n",
    "overlap=compute_overlap(train_data[0],train_data[1])\n",
    "print(overlap)\n",
    "overlap=compute_overlap_list(train_data[0],train_data)\n",
    "print(overlap)\n",
    "overlap=compute_overlap_matrix(train_data)\n",
    "print(overlap)"
   ]
  },
  {
   "cell_type": "markdown",
   "metadata": {},
   "source": [
    "Store first pattern in the synaptic weights $w_{ij}$:\n",
    "\n",
    "$$\n",
    "w_{ij}={1\\over N}\\xi^\\mu_i\\xi^\\mu_j-{1\\over N}\\delta_{ij} \\ ,\n",
    "$$\n",
    "where the last term enforces $w_{ii}=0$."
   ]
  },
  {
   "cell_type": "code",
   "execution_count": 10,
   "metadata": {},
   "outputs": [
    {
     "name": "stderr",
     "output_type": "stream",
     "text": [
      "/tmp/ipykernel_3908/3171244043.py:6: UserWarning: cmr10 font should ideally be used with mathtext, set axes.formatter.use_mathtext to True\n",
      "  w_plot=plt.imshow(self,cmap=cm.coolwarm)\n",
      "/tmp/ipykernel_3908/3171244043.py:7: UserWarning: cmr10 font should ideally be used with mathtext, set axes.formatter.use_mathtext to True\n",
      "  plt.colorbar(w_plot)\n",
      "/tmp/ipykernel_3908/3171244043.py:9: UserWarning: Glyph 8722 (\\N{MINUS SIGN}) missing from current font.\n",
      "  plt.xlabel(\"neurons\"); plt.ylabel(\"neurons\"); plt.tight_layout(); plt.savefig(file)\n",
      "/home/pietromalagoli/anaconda3/envs/uni/lib/python3.12/site-packages/IPython/core/pylabtools.py:170: UserWarning: Glyph 8722 (\\N{MINUS SIGN}) missing from current font.\n",
      "  fig.canvas.print_figure(bytes_io, **kw)\n"
     ]
    },
    {
     "data": {
      "image/png": "[encoded data removed]",
      "text/plain": [
       "<Figure size 500x400 with 2 Axes>"
      ]
     },
     "metadata": {},
     "output_type": "display_data"
    }
   ],
   "source": [
    "weights0=np.outer(train_data[0],train_data[0])/nunits\n",
    "np.fill_diagonal(weights0,0)\n",
    "\n",
    "def plotweights(self,file=\"current_weight.png\"):\n",
    "    plt.figure(figsize=(5,4))\n",
    "    w_plot=plt.imshow(self,cmap=cm.coolwarm)\n",
    "    plt.colorbar(w_plot)\n",
    "    plt.title(\"Network weights\")\n",
    "    plt.xlabel(\"neurons\"); plt.ylabel(\"neurons\"); plt.tight_layout(); plt.savefig(file)\n",
    "    plt.show()\n",
    "    \n",
    "plotweights(weights0)"
   ]
  },
  {
   "cell_type": "markdown",
   "metadata": {},
   "source": [
    "## Recurrent dynamics\n",
    "\n",
    "Implement Hopfield network dynamics, using two different kinds of updates. Monitor the network energy function (Lyapunov function of the dynamics, monotonically decreasing):\n",
    "$$\n",
    "E=-{1\\over2}\\sum_{i,j}w_{ij}S_iS_j \\ ,\n",
    "$$\n",
    "\n",
    "1. Asynchronous updates at zero temperature. At each time step, pick a random neuron and update its value according to the rule:\n",
    "$$\n",
    "S_i(t+1)=sign[\\,h_i(t)+\\theta_i\\,] \\ ,\n",
    "$$ \n",
    "where $h_i(t)=\\sum_{j=1}^N w_{ij}S_j(t)$ is the neuron's input and $\\theta_i$ is an activation threshold.\n",
    "\n",
    "2. Asynchronous updates with nonzero temperature $T$. At each time step, pick a random neuron and update its value according to the probabilistic rule:\n",
    "$$\n",
    "Prob[S_i(t+1)=+1]={1\\over 1+e^{-2\\beta (h_i(t)+\\theta_i)}} \\ ,\n",
    "$$ \n",
    "where $h_i(t)=\\sum_{j=1}^N w_{ij}S_j(t)$ is the neuron's input and $\\theta_i$ is an activation threshold. $\\beta=1/T$ is the inverse temperature.\n",
    "\n",
    "3. Include early stopping for the deterministic dynamics when the energy reaches a minimum."
   ]
  },
  {
   "cell_type": "code",
   "execution_count": 11,
   "metadata": {},
   "outputs": [],
   "source": [
    "# dynamics\n",
    "def probspin(h,beta):\n",
    "    res=1/(1+np.exp(-2*beta*h))\n",
    "    return res\n",
    "\n",
    "def flow(pattern,weights,theta=0.,steps=100,display=True,EarlyStop=True,T=0):\n",
    "    nunits=len(pattern)\n",
    "    steps_tot=steps*nunits\n",
    "    pattern_flat=pattern.flatten()\n",
    "    energy=[]\n",
    "    if (type(theta)==float) or (type(theta)==int):\n",
    "        thetas=np.zeros(len(pattern_flat))+theta\n",
    "    \n",
    "    energytemp=0.5*np.dot(np.dot(pattern_flat.T,weights),pattern_flat)\n",
    "    energy.append(energytemp)\n",
    "    if display:\n",
    "        print('initial energy is {}'.format(energytemp))\n",
    "    #\n",
    "    for step in range(steps_tot):\n",
    "        units_perm = np.random.permutation(len(pattern_flat))\n",
    "        for unit1 in units_perm:\n",
    "            unit_weight=weights[unit1,:]\n",
    "            net_input = np.dot(unit_weight,pattern_flat)\n",
    "            if T == 0:\n",
    "                pattern_flat[unit1]=1 if (net_input > thetas[unit1]) else -1\n",
    "            else:\n",
    "                pattern_flat[unit1]=1 if probspin(net_input-thetas[unit1],1/T)>np.random.rand() else -1\n",
    "        energytemp=0.5*np.dot(np.dot(pattern_flat.T,weights),pattern_flat)\n",
    "        energy.append(energytemp)       \n",
    "        if display:\n",
    "            print('energy at step {} is now {}'.format((step),energytemp))\n",
    "        if (step>0) & EarlyStop:\n",
    "            # TOL=np.diff(energy[-nunits*5:-1]).sum()\n",
    "            TOL=np.diff(energy[-5:-1]).sum()\n",
    "            if (TOL==0):\n",
    "                # monitors changes in energy values, stop dynamics if no change in last 5 steps\n",
    "                if display:\n",
    "                    print('reached min of energy, stop dynamics!')\n",
    "                break\n",
    "    evolved_pattern=pattern_flat\n",
    "    return evolved_pattern\n"
   ]
  },
  {
   "cell_type": "markdown",
   "metadata": {},
   "source": [
    "## Memory retrieval\n",
    "\n",
    "Introduce a corrupt version $\\rho^{\\mu}_i(p)$ of the stored pattern $\\xi^\\mu_i$, where we flip a fraction $p$=flip_fraction of the pattern bits.  "
   ]
  },
  {
   "cell_type": "code",
   "execution_count": null,
   "metadata": {},
   "outputs": [
    {
     "name": "stderr",
     "output_type": "stream",
     "text": [
      "/tmp/ipykernel_3908/4127369521.py:10: UserWarning: cmr10 font should ideally be used with mathtext, set axes.formatter.use_mathtext to True\n",
      "  fig,ax=plt.subplots(1,2,figsize=(20,5))\n"
     ]
    },
    {
     "data": {
      "image/png": "[encoded data removed]",
      "text/plain": [
       "<Figure size 2000x500 with 2 Axes>"
      ]
     },
     "metadata": {},
     "output_type": "display_data"
    }
   ],
   "source": [
    "def noisify(pattern,flip_fraction):\n",
    "    noisy_pattern=pattern.copy()\n",
    "    lenpat=len(noisy_pattern)\n",
    "    choices=np.random.choice(lenpat,int(round(flip_fraction*lenpat)),replace=False)\n",
    "    noisy_pattern[choices]=-noisy_pattern[choices]\n",
    "    \n",
    "    return noisy_pattern\n",
    "\n",
    "noisy0=noisify(train_data[0],0.3)\n",
    "fig,ax=plt.subplots(1,2,figsize=(20,5))\n",
    "plotpattern(train_data[0],ax[0],title='stored pattern 0')\n",
    "plotpattern(noisy0,ax[1],title='noisy pattern 0')"
   ]
  },
  {
   "cell_type": "markdown",
   "metadata": {},
   "source": [
    "Use the corrupt pattern $S_i(0)=\\rho^{\\mu}_i(p)$ as initial condition for the network dynamics. Does the network converge? Try to increase the fraction of bits flipped. When does retrieval stop working? \n",
    "\n",
    "Use the negative corrupt pattern $S_i(0)=-\\rho^{\\mu}_i(p)$ as initial condition, and let the network evolve. Where does the network converge to? "
   ]
  },
  {
   "cell_type": "code",
   "execution_count": null,
   "metadata": {},
   "outputs": [],
   "source": [
    "# check pattern is a minimum\n",
    "overlap=compute_overlap_list(noisy0,train_data)\n",
    "print('overlap of noisy pattern with training patterns %s\\n' % overlap)\n",
    "noisy_evolved0=flow(noisy0,weights0,theta=0,steps=10000,display=True)\n",
    "fig,ax=plt.subplots(1,2,figsize=(20,5))\n",
    "plotpattern(noisy0,ax[0],title='initial condition')\n",
    "plotpattern(noisy_evolved0,ax[1],title='retrieved pattern')\n",
    "overlap=compute_overlap_list(noisy_evolved0,train_data)\n",
    "print('overlap of retrieved pattern with training patterns %s\\n' % overlap)\n",
    "\n",
    "# check -pattern is a minimum\n",
    "overlap=compute_overlap_list(-noisy0,train_data)\n",
    "print('overlap of -noisy pattern with training patterns %s\\n' % overlap)\n",
    "noisy_evolved0=flow(-noisy0,weights0,theta=0,steps=1000,display=True)\n",
    "fig,ax=plt.subplots(1,2,figsize=(20,5))\n",
    "plotpattern(-noisy0,ax[0],title='initial condition')\n",
    "plotpattern(noisy_evolved0,ax[1],title='retrieved pattern')\n",
    "overlap=compute_overlap_list(noisy_evolved0,train_data)\n",
    "print('overlap of retrieved pattern with training patterns %s\\n' % overlap)\n"
   ]
  },
  {
   "cell_type": "markdown",
   "metadata": {},
   "source": [
    "## Basin of attraction\n",
    "\n",
    "Calculate the basin of attraction of the pattern $\\xi^\\mu_i$, defined as value of the overlap $m[\\xi^\\mu_i,\\rho^{\\mu}_i(p)]$ for which pattern retrieval goes down to chance level. For each value of spin flip percentage $p$, run 5 times from random initial conditions and store the fraction of correctly retrieved patterns. \n",
    "\n",
    "Hint: calculate retrieval by increasing the percentage of spin flips $p$ of the corrupt initial condition $\\rho^{\\mu}_i(p)$.\n"
   ]
  },
  {
   "cell_type": "code",
   "execution_count": null,
   "metadata": {},
   "outputs": [],
   "source": [
    "def basin(testpatterns,i_train,weights1,fset,nrepeats,T=0,plotf=True):\n",
    "    nfset=len(fset) # set of spin flip probability for each initial conditions\n",
    "    retrieval_f=np.zeros(nfset) # fraction of correct retrievals across repeats\n",
    "    overlap_f=np.zeros(nfset) # overlaps of initial conditions with stored pattern\n",
    "    trainpattern=testpatterns[i_train]\n",
    "    for ifset in range(nfset):\n",
    "        overlap_ic=[]\n",
    "        count=0\n",
    "        for icnt in range(nrepeats):\n",
    "            noisy_pattern=noisify(trainpattern,fset[ifset])\n",
    "            overlap_ic.append(compute_overlap(noisy_pattern,trainpattern))\n",
    "            recovered_pattern=flow(noisy_pattern,weights1,T,display=False)\n",
    "            # estimate overlap with all trained patterns\n",
    "            overlap=compute_overlap_list(recovered_pattern,testpatterns)\n",
    "            # count a hit if recovered pattern is the i_train one\n",
    "            count+=(overlap.argmax()==i_train)\n",
    "        overlap_f[ifset]=np.array(overlap_ic).mean()\n",
    "        retrieval_f[ifset]=count/nrepeats\n",
    "\n",
    "    print('overlap',overlap_f[::-1])\n",
    "    print('hit rate (retrieval)',retrieval_f[::-1])\n",
    "    \n",
    "    if plotf:\n",
    "        fig,ax=plt.subplots(1,1,figsize=(10,5))\n",
    "        ax.plot(overlap_f, retrieval_f, linestyle='solid')\n",
    "        ax.set_title(\"pattern retrieval\")\n",
    "        ax.set_xlabel(\"overlap m\"); ax.set_ylabel(\"successful retrievals [perc.]\")\n",
    "        ax.plot([overlap_f.min(),overlap_f.max()],0.5*np.ones(2))\n",
    "\n",
    "    return overlap_f,retrieval_f\n",
    "\n",
    "nrepeats=5\n",
    "fset=np.linspace(0.1,1,10)\n",
    "test_patterns=np.concatenate((train_data,-train_data),axis=0)\n",
    "overlap_f,retrieval_f=basin(test_patterns,0,weights0,fset,nrepeats,T=0.)"
   ]
  },
  {
   "cell_type": "markdown",
   "metadata": {},
   "source": [
    "Store all patterns now, check we recover all of them."
   ]
  },
  {
   "cell_type": "code",
   "execution_count": null,
   "metadata": {},
   "outputs": [],
   "source": [
    "def set_weights(patterns):\n",
    "    npatterns1,nunits1=patterns.shape\n",
    "    weights1=np.zeros((nunits1,nunits1))\n",
    "    for i in range(npatterns1):\n",
    "        weights1+=np.outer(patterns[i],patterns[i])\n",
    "    np.fill_diagonal(weights1,0)\n",
    "    out=weights1/nunits1\n",
    "    return out"
   ]
  },
  {
   "cell_type": "code",
   "execution_count": null,
   "metadata": {},
   "outputs": [],
   "source": [
    "allweights=set_weights(train_data)\n",
    "plotweights(allweights)\n",
    "\n",
    "# noisify each pattern\n",
    "noisy_patterns=np.zeros(train_data.shape)\n",
    "for i in range(npatterns):\n",
    "    noisy_patterns[i]=noisify(train_data[i],0.3)\n",
    "\n",
    "fig,ax=plt.subplots(1,4,figsize=(20,4))\n",
    "for i in range(npatterns):\n",
    "    plotpattern(noisy_patterns[i],ax[i],title='noisy %s' % i)\n",
    "\n",
    "recovered_pattern=np.zeros((npatterns,nunits))\n",
    "for i in range(npatterns):\n",
    "    recovered_pattern[i,:]=flow(noisy_patterns[i],allweights,theta=0,steps=50000,display=False)\n",
    "    overlap=compute_overlap_list(recovered_pattern[i,:],train_data)\n",
    "    print(overlap)\n",
    "plt.savefig(\"hopfield_orth4_noisy.png\")\n",
    "\n",
    "fig,ax=plt.subplots(1,4,figsize=(20,4))\n",
    "for i in range(npatterns):\n",
    "    plotpattern(recovered_pattern[i],ax[i],title='retrieved %s' % i)\n",
    "plt.savefig(\"hopfield_orth4_retrieval.png\")"
   ]
  },
  {
   "cell_type": "markdown",
   "metadata": {},
   "source": [
    "## Equidistant initial conditions\n",
    "An initial state that has equal overlap with both patterns ends up in either attractor randomly, \n",
    "because asynchronous updates introduce stochasticity."
   ]
  },
  {
   "cell_type": "code",
   "execution_count": null,
   "metadata": {},
   "outputs": [],
   "source": [
    "pattern01=np.mean([train_data[0],train_data[1]],axis=0)\n",
    "fig,ax=plt.subplots(1,1,figsize=(6,4))\n",
    "plotpattern(pattern01,ax,title='pattern01')\n",
    "overlap=compute_overlap_list(pattern01,train_data)\n",
    "print('overlaps %s' % overlap)"
   ]
  },
  {
   "cell_type": "markdown",
   "metadata": {},
   "source": [
    "Run dynamics 10 times and plot retrieved patterns."
   ]
  },
  {
   "cell_type": "code",
   "execution_count": null,
   "metadata": {},
   "outputs": [],
   "source": [
    "recovered_pattern=np.zeros((10,nunits))\n",
    "for i in range(10):\n",
    "    recovered_pattern[i,:]=flow(pattern01,allweights,theta=0,steps=20,display=False)\n",
    "\n",
    "fig,ax=plt.subplots(1,10,figsize=(20,4))\n",
    "for i in range(10):\n",
    "    plotpattern(recovered_pattern[i],ax[i],title='retrieved %s' % i)\n"
   ]
  },
  {
   "cell_type": "markdown",
   "metadata": {},
   "source": [
    "## Temperature and basins of attraction\n",
    "\n",
    "Generate random patterns, store them in the weights.\n",
    "\n",
    "- Find basin of attraction.\n",
    "\n",
    "- Check basins of attraction shrink when we increase T.\n",
    "\n",
    "- Check basins of attraction shrink when we increase the number of patterns."
   ]
  },
  {
   "cell_type": "code",
   "execution_count": null,
   "metadata": {},
   "outputs": [],
   "source": [
    "# train_data=generate_orth_patterns(nunits,npatterns)    \n",
    "train_data=generate_rand_patterns(nunits,50,0.5)    \n",
    "\n",
    "allweights=set_weights(train_data[0:10])\n",
    "plotweights(allweights)\n",
    "nrepeats=10\n",
    "fset=np.linspace(0.05,1,20)\n",
    "test_patterns=np.concatenate((train_data,-train_data),axis=0)\n",
    "basin(test_patterns,0,allweights,fset,nrepeats,T=0.)"
   ]
  },
  {
   "cell_type": "markdown",
   "metadata": {},
   "source": [
    "**Spurious states** \n",
    "\n",
    "Combination of 3 patterns!\n",
    "\n",
    "- Check spurious states are stable at zero temperature. Perturb slightly the spurious state and check it's an attractor."
   ]
  },
  {
   "cell_type": "code",
   "execution_count": null,
   "metadata": {},
   "outputs": [],
   "source": [
    "spurious=np.sign(train_data[0]+train_data[1]+train_data[2])\n",
    "overlap=compute_overlap_list(spurious,train_data)\n",
    "print('overlap %s' % overlap)\n",
    "spurious_0=noisify(spurious,0.01)\n",
    "recovered_pattern=flow(spurious_0,allweights,theta=0,steps=30,display=True)\n",
    "# check that for T>0.46 the spurious state disappears!!\n",
    "# recovered_pattern=flow(spurious,allweights,theta=0,steps=50000,display=True,T=0.5)\n",
    "# plot patterns\n",
    "fig,ax=plt.subplots(1,2,figsize=(6,4))\n",
    "plotpattern(spurious,ax[0],title='spurious')\n",
    "plotpattern(recovered_pattern,ax[1],title='retrieved')\n",
    "plt.savefig(\"hopfield_orth_spurious.png\")\n",
    "overlap=compute_overlap_list(recovered_pattern,train_data)\n",
    "print('overlap recovered pattern with training patterns');print(overlap)\n",
    "print('overlap recovered pattern with spurious state');print(compute_overlap(recovered_pattern,spurious))"
   ]
  },
  {
   "cell_type": "markdown",
   "metadata": {},
   "source": [
    "Calculate basin of attraction of spurious states. When do spurious states stop being a fixed point?"
   ]
  },
  {
   "cell_type": "code",
   "execution_count": null,
   "metadata": {},
   "outputs": [],
   "source": [
    "# check that spurious states disappear at T=0.46\n",
    "fset=np.linspace(0,0.5,20)\n",
    "nrepeats=20\n",
    "# print(spurious.shape)\n",
    "# print(train_data.shape)\n",
    "spurious0=spurious[np.newaxis, :]\n",
    "test_patterns=np.concatenate((spurious0,train_data,-train_data),axis=0)\n",
    "basin(test_patterns,0,allweights,fset,nrepeats,T=0.)"
   ]
  },
  {
   "cell_type": "markdown",
   "metadata": {},
   "source": [
    "## Robustness to brain damage\n",
    "Set a fraction of the synaptic weights to zero, see how the network performs!"
   ]
  },
  {
   "cell_type": "code",
   "execution_count": null,
   "metadata": {},
   "outputs": [],
   "source": [
    "# train_data=generate_orth_patterns(nunits,4)    \n",
    "train_data=generate_rand_patterns(nunits,8,0.5)    \n",
    "allweights=set_weights(train_data)\n",
    "fracDamage=0.5\n",
    "nDamage=int(np.array(len(allweights)*fracDamage).round())\n",
    "indDamage=np.random.permutation(len(allweights))\n",
    "indDamage=indDamage[0:nDamage]\n",
    "allweightsDamage=allweights.copy()\n",
    "allweightsDamage[indDamage]=0\n",
    "plotweights(allweightsDamage,file=\"hopfield_weights_damaged.png\")\n",
    "# noisify each pattern\n",
    "# damaged patterns\n",
    "noisy_patterns=np.zeros(train_data.shape)\n",
    "for i in range(npatterns):\n",
    "    noisy_patterns[i]=noisify(train_data[i],0.1)\n",
    "\n",
    "fig,ax=plt.subplots(1,4,figsize=(20,4))\n",
    "for i in range(npatterns):\n",
    "    plotpattern(noisy_patterns[i],ax[i],title='noisy %s' % i)\n",
    "\n",
    "recovered_pattern=np.zeros((npatterns,nunits))\n",
    "for i in range(npatterns):\n",
    "    recovered_pattern[i,:]=flow(noisy_patterns[i],allweightsDamage,theta=0,steps=50000,display=False)\n",
    "    overlap=compute_overlap_list(recovered_pattern[i,:],train_data)\n",
    "    print(overlap.argmax())\n",
    "plt.savefig(\"hopfield_orth_damaged_ic.png\")\n",
    "\n",
    "fig,ax=plt.subplots(1,4,figsize=(20,4))\n",
    "for i in range(npatterns):\n",
    "    plotpattern(recovered_pattern[i],ax[i],title='retrieved %s' % i)\n",
    "plt.savefig(\"hopfield_orth_damaged_retrieval.png\")\n"
   ]
  },
  {
   "cell_type": "markdown",
   "metadata": {},
   "source": [
    "## Exercise 1:  Hopfield network capacity.\n",
    "\n",
    "1. Store $p$ random patterns in a network with $N$ units. Each pattern is a random vector $\\xi_i^\\mu$ with values $\\{\\pm1\\}$ with equal probability.\n",
    "2. For each pattern $\\xi^\\mu$, $\\mu=1,\\ldots,p$, initialize the network with a noisy version $\\rho^\\mu$ of the pattern $\\xi^\\mu$ (use noisify and flip_fraction=0.05). Test successful pattern retrieval, namely, whether the retrieved pattern $S_i$ obtained by running the dynamics from initial condition $\\rho^\\mu$ has the largest overlap with the pattern $\\xi^\\mu$ among all other stored patterns. For each pattern, attempt retrieval starting from 5 different random initial conditions $\\rho^\\mu$, and count a success if at least once in 5 the correct pattern $\\xi^\\mu$ is retrieved (this step is needed because if there's a small basin of attraction for $\\xi^\\mu$ then it's harder to retrieve the pattern). \n",
    "3. As a function of increasing $p$, find the largest $p_{max}$ beyond which a network storing $p$ patterns fails to successfully retrieve all of them: the capacity is then defined as $\\alpha_c(N)=p_{max}/N$. Calculate the capacity $\\alpha_c(N)$ as a function of increasing $N=10:100$, check that it converges to the theoretical value at large $N$, $\\alpha_c=0.138$.\n",
    "\n",
    "Bonus assignment (optional): improve capacity by replacing the Hebbian weights with the supervised perceptron learning rule (42.9) in [MacKay's book](http://www.inference.org.uk/itprnn/book.pdf)."
   ]
  },
  {
   "cell_type": "markdown",
   "metadata": {},
   "source": [
    "## Exercise 2:  Basin of attractions of stable states\n",
    "\n",
    "In this exercise, we will estimate the size of basins of attractions of the network stable fixed points. We start with a Hopfield network storing $p$ random patterns $\\xi_i^\\mu$ with $N$ units. Fixed points are given by the patterns $\\xi_i^\\mu$ and their opposite $-\\xi_i^\\mu$, plus the first spurious states, given by $\\xi_i^{sp}=sign(\\pm\\xi_i^{\\mu_1}\\pm \\xi_i^{\\mu_2}\\pm \\xi_i^{\\mu_3})$. Start with $N=100$, $p=10$ random patterns. To estimate the basin of attraction of a fixed point $\\xi_i$:\n",
    "1. Set initial conditions for the dynamics equal to a noisy version $\\rho_i(f)$ of the pattern $\\xi_i$ (use noisify and flip fraction=$f$)\n",
    "2. Calculate the overlap between the fixed point and the noisy initial condition $m(f,\\mu)={1\\over N}\\sum_{i=1}^N\\xi_i\\rho_i^\\mu(f)$. Run the dynamics and test whether the intended fixed point was retrieved. For each value of $f$ and each pattern, run dynamics starting from 5 random noisy initial conditions, and estimate the total fraction of correct retrievals.\n",
    "3. Plot the fraction of correct retrievals as a function of the overlaps $m$ between initial conditions and fixed points. The basin of attraction is defined as the value $m$ where retrieval goes down below $50\\%$.\n",
    "\n",
    "# Question 1: \n",
    "For p=10, estimate the average size of the basin of attraction $m$ for the stored patterns $\\xi_i^\\mu$, for minus the stored patterns $-\\xi_i^\\mu$ and for the spurious states $\\xi_i^{sp}=sign(\\pm\\xi_i^{\\mu_1}\\pm \\xi_i^{\\mu_2}\\pm \\xi_i^{\\mu_3})$. What do you find?\n",
    "\n",
    "# Question 2: \n",
    "So far, we used asynchronous updates in a deterministic network without noise. Introduce a nonzero temperature T with probabilistic updates. For p=10, estimate the critical temperature $T_3$ beyond which the spurious states cannot be retrieved, and the critical temperature $T_c$ beyond which no stored patterns can be retrieved.\n",
    "\n",
    "# Question 3: \n",
    "Calculate $m$ in networks storing an increasingly large number of patterns $p=1:50$. How does $m$ depend on the total number of stored patterns $p$? Is there a value of $p$ for which the size of the basin of attraction goes to zero?"
   ]
  },
  {
   "cell_type": "markdown",
   "metadata": {},
   "source": [
    "## Hopfield network - part 2: learning\n",
    "\n",
    "Build a Hopfield network with $nunits$ neurons. Neurons activity takes values $S_i=\\{\\pm1\\}$, for $i=1,\\ldots,nunits$.\n",
    "\n",
    "Input patterns take values $\\xi_i^\\mu=\\{\\pm1\\}$, for $i=1,\\ldots,nunits$ neurons and $\\mu=1,\\ldots,npatterns$ patterns.\n",
    "\n",
    "Learn a noisy version of the input patterns using and online Hebbian learning rule. "
   ]
  },
  {
   "cell_type": "markdown",
   "metadata": {},
   "source": [
    "For each pattern $\\xi_i^\\mu$, create $Nnoisy$ corrupted copies $\\xi_i^\\mu(a)$ of that by flipping bits, for $a=1,\\ldots,Nnoisy$."
   ]
  },
  {
   "cell_type": "code",
   "execution_count": null,
   "metadata": {},
   "outputs": [],
   "source": [
    "train_data=generate_orth_patterns(nunits,4)    \n",
    "Nnoisy=5*nunits\n",
    "flipfrac=0.1\n",
    "train_noisy=np.zeros((npatterns*Nnoisy,nunits))\n",
    "\n",
    "for ip in range(npatterns):\n",
    "    for inoisy in range(Nnoisy):\n",
    "        tempPattern=noisify(train_data[ip],flipfrac)\n",
    "        train_noisy[inoisy+ip*Nnoisy,:]=tempPattern\n",
    "\n",
    "for ip in range(npatterns):\n",
    "    fix,ax=plt.subplots(1,10,figsize=(20,4))\n",
    "    fig.suptitle('corrupted pattern %s' % ip)\n",
    "    for inoisy in range(10):\n",
    "        plotpattern(train_noisy[inoisy+ip*Nnoisy],ax[inoisy],title='')"
   ]
  },
  {
   "cell_type": "markdown",
   "metadata": {},
   "source": [
    "## Network training [Optional assignment]\n",
    "\n",
    "Train network with asynchronous updates for $nepochs$ batches. In each training batch, present each one of the noisy patterns $\\xi_i^\\mu(a)$ to the network, in random order. For each noisy pattern presentation $a$, evolve the asynchronous network dynamics for $trialSteps$ steps with initial conditions equal to the network state $S_i(a-1)$ at the end of the previous presentation, with an external stimulus clamped to the noisy pattern presented, namely the i-th neuron's activation reads:\n",
    "$$\n",
    "h_i(t)=\\sum_{j=1}^Nw_{ij}S_j(t)+\\xi_i^\\mu(a)\\times stimstrength \\ ,\\qquad S_i(t+1)=sign (h_i(t)+\\theta_i) \\ .\n",
    "$$\n",
    "Store the network state $S_i(t)$ for $t=1,\\ldots,trialSteps$, then update the weights with the Hebbian rule\n",
    "$$\n",
    "\\Delta w_{ij}={\\eta\\over N^2} \\sum_{t=1}^{trialSteps} S_i(t)S_j(t)-\\eta\\alpha w_{ij} \\ ,\\qquad w_{ii}=0\\ ,\n",
    "$$\n",
    "where $\\alpha=1/N$ is a weight decay term.\n",
    "\n",
    "At each training epoch, test stability of original patterns $\\xi_i^\\mu$, and stop training when perfect overlap is achieved."
   ]
  }
 ],
 "metadata": {
  "kernelspec": {
   "display_name": "uni",
   "language": "python",
   "name": "python3"
  },
  "language_info": {
   "codemirror_mode": {
    "name": "ipython",
    "version": 3
   },
   "file_extension": ".py",
   "mimetype": "text/x-python",
   "name": "python",
   "nbconvert_exporter": "python",
   "pygments_lexer": "ipython3",
   "version": "3.12.3"
  }
 },
 "nbformat": 4,
 "nbformat_minor": 4
}
